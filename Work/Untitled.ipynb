{
 "cells": [
  {
   "cell_type": "code",
   "execution_count": null,
   "metadata": {
    "collapsed": false
   },
   "outputs": [],
   "source": [
    "import numpy as np\n",
    "import parameters\n",
    "import vptools\n",
    "from vpython import *\n",
    "\n",
    "t_max = int(2*parameters.solar_system['jupiter']['period'])\n",
    "ct = int(1*parameters.solar_system['jupiter']['period'])\n",
    "dt = 1\n",
    "scene2 = canvas(title=\"Solar System\")\n",
    "scene3 = canvas(title=\"Timer\")\n",
    "nsteps = int(t_max/dt)\n",
    "k = 0\n",
    "day = np.zeros(nsteps-1)\n",
    "year = np.zeros_like(day)\n",
    "jyear = np.zeros_like(day)\n",
    "cyear = np.zeros_like(day)\n",
    "while k < nsteps-1:\n",
    "    day[k] = str(k)\n",
    "    year[k] = str(int(100*k/365)/100)\n",
    "    jyear[k] = str(int(100*k/(365*11.86))/100)\n",
    "    cyear[k] = str(int((2*(100*parameters.solar_system['jupiter']['period']-k))/365)/100)\n",
    "    k += 1"
   ]
  },
  {
   "cell_type": "code",
   "execution_count": null,
   "metadata": {
    "collapsed": false
   },
   "outputs": [],
   "source": [
    "text(pos=vector(-10, 10,0), text='CO mass: ' + str(parameters.SCALE_FACTOR) + \"M_J\", canvas=scene3)\n",
    "text(pos=vector(-10, 0,0), text='CO velocity: ' + str(parameters.celestial_object['velocity_magnitude']) + ' AU/day', canvas=scene3)\n",
    "text(pos=vector(-10, -10,0), text='Collision time: ' + str(ct) + ' Jovian Years', canvas=scene3)\n",
    "text(pos=vector(-10, -20,0), text='Simulation time: ' + str(t_max) + ' Jovian Years',canvas=scene3)"
   ]
  },
  {
   "cell_type": "code",
   "execution_count": null,
   "metadata": {
    "collapsed": false
   },
   "outputs": [],
   "source": [
    "np.shape(day)"
   ]
  },
  {
   "cell_type": "code",
   "execution_count": null,
   "metadata": {
    "collapsed": false
   },
   "outputs": [],
   "source": [
    "rA, vA, planets, nsteps = vptools.simulate(t_max=t_max, dt=dt, ct=ct)\n",
    "i = 0\n",
    "fnum = 0\n",
    "label(pos=vector(-100, 100,0), text='CO mass: ' + str(parameters.SCALE_FACTOR) + '%M_J', canvas=scene3)\n",
    "label(pos=vector(-100, 100,0), text='CO velocity: ' + str(parameters.celestial_object['velocity_magnitude']) + ' AU/day', canvas=scene3)\n",
    "label(pos=vector(-100, 100,0), text='Collision time: ' + str(ct) + ' Jovian Years', canvas=scene3)\n",
    "label(pos=vector(-100, 100,0), text='Simulation time: ' + str(t_max) + ' Jovian Years',canvas=scene3)\n",
    "while i < nsteps:\n",
    "    rate(50)\n",
    "    label(pos=vector(-100, 100,0), text='Day: ' + str(day[i]), canvas=scene3)\n",
    "    label(pos=vector(-100,-100,0), text='Year: ' + str(year[i]), canvas=scene3)\n",
    "    label(pos=vector(100, 100,0), text='Jovian Year: ' + str(jyear[i]), canvas=scene3)\n",
    "    label(pos=vector(100,-100,0), text='Years to impact: ' + str(cyear[i]), canvas=scene3)\n",
    "    j = 0\n",
    "    while j < len(planets):\n",
    "        planets[j].pos = vector(rA[i,j,0], rA[i,j,1], rA[i,j,2])\n",
    "        j += 1 \n",
    "    i += 1"
   ]
  }
 ],
 "metadata": {
  "anaconda-cloud": {},
  "kernelspec": {
   "display_name": "Python [conda root]",
   "language": "python",
   "name": "conda-root-py"
  },
  "language_info": {
   "codemirror_mode": {
    "name": "ipython",
    "version": 3
   },
   "file_extension": ".py",
   "mimetype": "text/x-python",
   "name": "python",
   "nbconvert_exporter": "python",
   "pygments_lexer": "ipython3",
   "version": "3.5.2"
  }
 },
 "nbformat": 4,
 "nbformat_minor": 1
}
