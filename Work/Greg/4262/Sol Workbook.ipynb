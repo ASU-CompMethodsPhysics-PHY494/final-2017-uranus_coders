{
 "cells": [
  {
   "cell_type": "code",
   "execution_count": 1,
   "metadata": {
    "collapsed": false
   },
   "outputs": [
    {
     "data": {
      "application/javascript": [
       "require.undef(\"nbextensions/vpython_libraries/glow.min\");"
      ],
      "text/plain": [
       "<IPython.core.display.Javascript object>"
      ]
     },
     "metadata": {},
     "output_type": "display_data"
    },
    {
     "data": {
      "application/javascript": [
       "require.undef(\"nbextensions/vpython_libraries/glowcomm\");"
      ],
      "text/plain": [
       "<IPython.core.display.Javascript object>"
      ]
     },
     "metadata": {},
     "output_type": "display_data"
    },
    {
     "data": {
      "application/javascript": [
       "require.undef(\"nbextensions/vpython_libraries/jquery-ui.custom.min\");"
      ],
      "text/plain": [
       "<IPython.core.display.Javascript object>"
      ]
     },
     "metadata": {},
     "output_type": "display_data"
    },
    {
     "data": {
      "application/javascript": [
       "require([\"nbextensions/vpython_libraries/glow.min\"], function(){console.log(\"GLOW LOADED\");})"
      ],
      "text/plain": [
       "<IPython.core.display.Javascript object>"
      ]
     },
     "metadata": {},
     "output_type": "display_data"
    },
    {
     "data": {
      "application/javascript": [
       "require([\"nbextensions/vpython_libraries/glowcomm\"], function(){console.log(\"GLOWCOMM LOADED\");})"
      ],
      "text/plain": [
       "<IPython.core.display.Javascript object>"
      ]
     },
     "metadata": {},
     "output_type": "display_data"
    },
    {
     "data": {
      "application/javascript": [
       "require([\"nbextensions/vpython_libraries/jquery-ui.custom.min\"], function(){console.log(\"JQUERY LOADED\");})"
      ],
      "text/plain": [
       "<IPython.core.display.Javascript object>"
      ]
     },
     "metadata": {},
     "output_type": "display_data"
    },
    {
     "data": {
      "text/html": [
       "<div id=\"glowscript\" class=\"glowscript\"></div>"
      ],
      "text/plain": [
       "<IPython.core.display.HTML object>"
      ]
     },
     "metadata": {},
     "output_type": "display_data"
    },
    {
     "data": {
      "application/javascript": [
       "window.__context = { glowscript_container: $(\"#glowscript\").removeAttr(\"id\")}"
      ],
      "text/plain": [
       "<IPython.core.display.Javascript object>"
      ]
     },
     "metadata": {},
     "output_type": "display_data"
    }
   ],
   "source": [
    "from vpython import *\n",
    "import numpy as np\n",
    "import math\n",
    "import main\n",
    "import parameters\n",
    "import matplotlib\n",
    "import matplotlib.pyplot as plt\n",
    "matplotlib.style.use(\"ggplot\")\n",
    "%matplotlib inline"
   ]
  },
  {
   "cell_type": "code",
   "execution_count": null,
   "metadata": {
    "collapsed": false
   },
   "outputs": [],
   "source": [
    "ax = plt.subplot()\n",
    "ax.plot(rA[:,0,0],rA[:,0,1])\n",
    "ax.plot(rA[:,1,0],rA[:,1,1])\n",
    "ax.plot(rA[:,2,0],rA[:,2,1])\n",
    "ax.plot(rA[:,3,0],rA[:,3,1])"
   ]
  },
  {
   "cell_type": "code",
   "execution_count": null,
   "metadata": {
    "collapsed": false
   },
   "outputs": [],
   "source": [
    "scene2 = canvas(title=\"Scene2\")"
   ]
  },
  {
   "cell_type": "code",
   "execution_count": null,
   "metadata": {
    "collapsed": false
   },
   "outputs": [],
   "source": [
    "solplot2(planets = planets2)"
   ]
  },
  {
   "cell_type": "code",
   "execution_count": 2,
   "metadata": {
    "collapsed": false
   },
   "outputs": [],
   "source": [
    "t_max = 365\n",
    "dt = 1\n",
    "nsteps = int(t_max/dt)\n",
    "time, r, v = main.integrate_orbits(dt=dt, t_max=t_max)\n",
    "#rA[i,j,k]\n",
    "#i = timestep\n",
    "#j = planet\n",
    "\n",
    "#k = x,y,z\n",
    "rA = np.insert(r[:], 2, 0, axis=2)\n",
    "vA = np.insert(v[:], 2, 0, axis=2)"
   ]
  },
  {
   "cell_type": "code",
   "execution_count": null,
   "metadata": {
    "collapsed": false
   },
   "outputs": [],
   "source": [
    "sun = sphere(pos=vector(0,0,0), texture=textures.sun, make_trail=True, canvas=scene2, radius=50)\n",
    "mercury = sphere(pos=vector(rA[0,0,0],rA[0,0,1],rA[0,0,2]), color=color.gray(0.5), make_trail=True, canvas=scene2, radius=50)\n",
    "venus = sphere(pos=vector(rA[0,1,0],rA[0,1,1],rA[0,1,2]), color=color.yellow, make_trail=True, canvas=scene2, radius=50)\n",
    "earth = sphere(pos=vector(rA[0,2,0],rA[0,2,1],rA[0,2,2]), color=color.blue, make_trail=True, canvas=scene2, radius=50)\n",
    "mars = sphere(pos=vector(rA[0,3,0],rA[0,3,1],rA[0,3,2]), color=color.red, make_trail=True, canvas=scene2, radius=50)\n",
    "jupiter = sphere(pos=vector(rA[0,4,0],rA[0,4,1],rA[0,4,2]), color=color.orange, make_trail=True, canvas=scene2, radius=50)\n",
    "saturn = sphere(pos=vector(rA[0,5,0],rA[0,5,1],rA[0,5,2]), color=color.green, make_trail=True, canvas=scene2, radius=50)\n",
    "uranus = sphere(pos=vector(rA[0,6,0],rA[0,6,1],rA[0,6,2]), color=color.cyan, make_trail=True, canvas=scene2, radius=50)\n",
    "neptune = sphere(pos=vector(rA[0,7,0],rA[0,7,1],rA[0,7,2]), color=color.white, make_trail=True, canvas=scene2, radius=50)\n",
    "planets = (mercury, venus, earth, mars, jupiter, saturn, uranus, neptune)\n",
    "planets2 = (mercury, venus, earth, mars)"
   ]
  },
  {
   "cell_type": "code",
   "execution_count": null,
   "metadata": {
    "collapsed": false
   },
   "outputs": [],
   "source": [
    "for i in range(len(planets)):\n",
    "    planets[i].velocity = vA[:,i,0], vA[:,i,1], vA[:,i,2]"
   ]
  },
  {
   "cell_type": "code",
   "execution_count": 3,
   "metadata": {
    "collapsed": false
   },
   "outputs": [
    {
     "data": {
      "text/plain": [
       "array([[[  1.83059738e-01,   9.36764007e-02,   0.00000000e+00],\n",
       "        [  6.76548296e-03,   3.90095293e-04,   0.00000000e+00],\n",
       "        [  2.90187464e-03,  -1.64573489e-02,   0.00000000e+00],\n",
       "        ..., \n",
       "        [ -5.38499772e-02,   1.12799622e-03,   0.00000000e+00],\n",
       "        [ -1.72431427e-02,   4.39993144e-02,   0.00000000e+00],\n",
       "        [ -8.58889688e-03,  -1.64915245e-04,   0.00000000e+00]],\n",
       "\n",
       "       [[ -3.11809789e+06,  -1.59509799e+06,   0.00000000e+00],\n",
       "        [ -3.21663465e+09,  -1.85452964e+08,   0.00000000e+00],\n",
       "        [ -9.20614848e+07,   5.21820008e+08,   0.00000000e+00],\n",
       "        ..., \n",
       "        [  5.13011141e+07,  -5.39700250e+05,   0.00000000e+00],\n",
       "        [  2.41092711e+07,  -6.17584412e+07,   0.00000000e+00],\n",
       "        [  2.00453063e+09,   3.85249208e+07,   0.00000000e+00]],\n",
       "\n",
       "       [[ -6.23619597e+06,  -3.19019608e+06,   0.00000000e+00],\n",
       "        [ -6.43326930e+09,  -3.70905928e+08,   0.00000000e+00],\n",
       "        [ -1.84122970e+08,   1.04364002e+09,   0.00000000e+00],\n",
       "        ..., \n",
       "        [  1.02602228e+08,  -1.07940050e+06,   0.00000000e+00],\n",
       "        [  4.82185421e+07,  -1.23516882e+08,   0.00000000e+00],\n",
       "        [  4.00906127e+09,   7.70498417e+07,   0.00000000e+00]],\n",
       "\n",
       "       ..., \n",
       "       [[ -1.12875150e+09,  -5.77425506e+08,   0.00000000e+00],\n",
       "        [ -1.16442174e+12,  -6.71339729e+10,   0.00000000e+00],\n",
       "        [ -3.33262575e+10,   1.88898843e+11,   0.00000000e+00],\n",
       "        ..., \n",
       "        [  1.85710033e+10,  -1.95371491e+08,   0.00000000e+00],\n",
       "        [  8.72755613e+09,  -2.23565557e+10,   0.00000000e+00],\n",
       "        [  7.25640090e+11,   1.39460213e+10,   0.00000000e+00]],\n",
       "\n",
       "       [[ -1.13186960e+09,  -5.79020605e+08,   0.00000000e+00],\n",
       "        [ -1.16763838e+12,  -6.73194259e+10,   0.00000000e+00],\n",
       "        [ -3.34183190e+10,   1.89420663e+11,   0.00000000e+00],\n",
       "        ..., \n",
       "        [  1.86223044e+10,  -1.95911191e+08,   0.00000000e+00],\n",
       "        [  8.75166540e+09,  -2.24183142e+10,   0.00000000e+00],\n",
       "        [  7.27644620e+11,   1.39845463e+10,   0.00000000e+00]],\n",
       "\n",
       "       [[ -1.13498770e+09,  -5.80615703e+08,   0.00000000e+00],\n",
       "        [ -1.17085501e+12,  -6.75048788e+10,   0.00000000e+00],\n",
       "        [ -3.35103805e+10,   1.89942483e+11,   0.00000000e+00],\n",
       "        ..., \n",
       "        [  1.86736055e+10,  -1.96450891e+08,   0.00000000e+00],\n",
       "        [  8.77577467e+09,  -2.24800726e+10,   0.00000000e+00],\n",
       "        [  7.29649151e+11,   1.40230712e+10,   0.00000000e+00]]])"
      ]
     },
     "execution_count": 3,
     "metadata": {},
     "output_type": "execute_result"
    }
   ],
   "source": [
    "rA"
   ]
  },
  {
   "cell_type": "code",
   "execution_count": null,
   "metadata": {
    "collapsed": false
   },
   "outputs": [],
   "source": [
    "def solplot(rA=rA, vA=vA, planets = planets, r8 = 100):\n",
    "    i = 0\n",
    "    while i < nsteps-1:\n",
    "        rate(r8)\n",
    "        j = 0\n",
    "        while j < len(planets):\n",
    "            planets[j].velocity = vector(vA[i,j,0], vA[i,j,1], vA[i,j,2])\n",
    "            planets[j].pos += planets[j].velocity*dt\n",
    "            j += 1\n",
    "        i += 1\n",
    "        "
   ]
  },
  {
   "cell_type": "code",
   "execution_count": null,
   "metadata": {
    "collapsed": true
   },
   "outputs": [],
   "source": [
    "def solplot2(rA=rA, planets = planets, r8 = 100):\n",
    "    i = 0\n",
    "    while i < nsteps-1:\n",
    "        rate(r8)\n",
    "        j = 0\n",
    "        while j < len(planets):\n",
    "            planets[j].pos = vector(rA[i,j,0], rA[i,j,1], rA[i,j,2])\n",
    "            j += 1\n",
    "        i += 1\n",
    "        "
   ]
  },
  {
   "cell_type": "code",
   "execution_count": null,
   "metadata": {
    "collapsed": false
   },
   "outputs": [],
   "source": [
    "planets[0].velocity = vA[:,0,0], vA[:,0,1], vA[:,0,2]"
   ]
  }
 ],
 "metadata": {
  "anaconda-cloud": {},
  "kernelspec": {
   "display_name": "VPython",
   "language": "python",
   "name": "vpython"
  },
  "language_info": {
   "codemirror_mode": {
    "name": "ipython",
    "version": 3
   },
   "file_extension": ".py",
   "mimetype": "text/x-python",
   "name": "python",
   "nbconvert_exporter": "python",
   "pygments_lexer": "ipython3",
   "version": "3.5.2"
  }
 },
 "nbformat": 4,
 "nbformat_minor": 1
}
