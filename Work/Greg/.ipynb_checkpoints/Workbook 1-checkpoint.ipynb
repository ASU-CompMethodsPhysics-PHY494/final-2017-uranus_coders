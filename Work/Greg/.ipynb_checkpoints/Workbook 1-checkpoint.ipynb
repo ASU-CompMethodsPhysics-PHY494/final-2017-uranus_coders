{
 "cells": [
  {
   "cell_type": "code",
   "execution_count": 1,
   "metadata": {
    "collapsed": false
   },
   "outputs": [
    {
     "data": {
      "application/javascript": [
       "require.undef(\"nbextensions/vpython_libraries/glow.min\");"
      ],
      "text/plain": [
       "<IPython.core.display.Javascript object>"
      ]
     },
     "metadata": {},
     "output_type": "display_data"
    },
    {
     "data": {
      "application/javascript": [
       "require.undef(\"nbextensions/vpython_libraries/glowcomm\");"
      ],
      "text/plain": [
       "<IPython.core.display.Javascript object>"
      ]
     },
     "metadata": {},
     "output_type": "display_data"
    },
    {
     "data": {
      "application/javascript": [
       "require.undef(\"nbextensions/vpython_libraries/jquery-ui.custom.min\");"
      ],
      "text/plain": [
       "<IPython.core.display.Javascript object>"
      ]
     },
     "metadata": {},
     "output_type": "display_data"
    },
    {
     "data": {
      "application/javascript": [
       "require([\"nbextensions/vpython_libraries/glow.min\"], function(){console.log(\"GLOW LOADED\");})"
      ],
      "text/plain": [
       "<IPython.core.display.Javascript object>"
      ]
     },
     "metadata": {},
     "output_type": "display_data"
    },
    {
     "data": {
      "application/javascript": [
       "require([\"nbextensions/vpython_libraries/glowcomm\"], function(){console.log(\"GLOWCOMM LOADED\");})"
      ],
      "text/plain": [
       "<IPython.core.display.Javascript object>"
      ]
     },
     "metadata": {},
     "output_type": "display_data"
    },
    {
     "data": {
      "application/javascript": [
       "require([\"nbextensions/vpython_libraries/jquery-ui.custom.min\"], function(){console.log(\"JQUERY LOADED\");})"
      ],
      "text/plain": [
       "<IPython.core.display.Javascript object>"
      ]
     },
     "metadata": {},
     "output_type": "display_data"
    },
    {
     "data": {
      "text/html": [
       "<div id=\"glowscript\" class=\"glowscript\"></div>"
      ],
      "text/plain": [
       "<IPython.core.display.HTML object>"
      ]
     },
     "metadata": {},
     "output_type": "display_data"
    },
    {
     "data": {
      "application/javascript": [
       "window.__context = { glowscript_container: $(\"#glowscript\").removeAttr(\"id\")}"
      ],
      "text/plain": [
       "<IPython.core.display.Javascript object>"
      ]
     },
     "metadata": {},
     "output_type": "display_data"
    }
   ],
   "source": [
    "from vpython import *\n",
    "import hw5solution as hw\n",
    "import numpy as np\n",
    "#idea: add a disc in the orbital plane of the planets"
   ]
  },
  {
   "cell_type": "code",
   "execution_count": null,
   "metadata": {
    "collapsed": true
   },
   "outputs": [],
   "source": [
    "scene1 = canvas(title=\"Scene 1\")"
   ]
  },
  {
   "cell_type": "code",
   "execution_count": null,
   "metadata": {
    "collapsed": true
   },
   "outputs": [],
   "source": []
  },
  {
   "cell_type": "code",
   "execution_count": null,
   "metadata": {
    "collapsed": false
   },
   "outputs": [],
   "source": [
    "solplot()"
   ]
  },
  {
   "cell_type": "code",
   "execution_count": 11,
   "metadata": {
    "collapsed": false
   },
   "outputs": [],
   "source": [
    "templot()"
   ]
  },
  {
   "cell_type": "code",
   "execution_count": 2,
   "metadata": {
    "collapsed": false
   },
   "outputs": [],
   "source": [
    "t_max = 160\n",
    "dt = 0.1\n",
    "nsteps = int(t_max/dt)\n",
    "l = 0\n",
    "\n",
    "time, r, v = hw.integrate_orbits(dt=dt, t_max=t_max, coupled=True)\n",
    "rU = np.insert(r[:,0], 2, 0, axis=1)\n",
    "rN = np.insert(r[:,1], 2, 0, axis=1)\n",
    "vU = np.insert(v[:,0], 2, 0, axis=1)\n",
    "vN = np.insert(v[:,1], 2, 0, axis=1)\n",
    "omegaU = hw.omega(vU, rU)\n",
    "omegaN = hw.omega(vN, rN)\n",
    "\n"
   ]
  },
  {
   "cell_type": "code",
   "execution_count": 3,
   "metadata": {
    "collapsed": false
   },
   "outputs": [
    {
     "data": {
      "text/plain": [
       "-17.301635391252759"
      ]
     },
     "execution_count": 3,
     "metadata": {},
     "output_type": "execute_result"
    }
   ],
   "source": [
    "rA = np.insert(r[:], 2, 0, axis=2)\n",
    "vA = np.insert(v[:], 2, 0, axis=2)\n",
    "rA[0,0,0]"
   ]
  },
  {
   "cell_type": "code",
   "execution_count": 10,
   "metadata": {
    "collapsed": false
   },
   "outputs": [],
   "source": [
    "neptune = sphere(pos=vector(rU[0,0],rU[0,1],0), texture=textures.neptune)\n",
    "uranus = sphere(pos=vector(rN[0,0],rN[0,1],0), texture=textures.uranus)\n",
    "sun = sphere(pos=vector(0,0,0), texture=textures.sun)\n",
    "\n",
    "planets = (uranus, neptune)\n",
    "\n",
    "neptune.velocity = vN\n",
    "uranus.velocity = vU\n",
    "\n",
    "plane = shapes.circle(radius = 20, np = 64)"
   ]
  },
  {
   "cell_type": "code",
   "execution_count": 5,
   "metadata": {
    "collapsed": false
   },
   "outputs": [],
   "source": [
    "#this one works\n",
    "def templot(rA=rN, vA=vN):\n",
    "    i = 0\n",
    "    while i < nsteps-1:\n",
    "        rate(100)\n",
    "        r0 = rA[i,0]\n",
    "        v0 = vA[i,0]\n",
    "        r1 = rA[i,1]\n",
    "        v1 = vA[i,1]\n",
    "        r2 = rA[i,2]\n",
    "        v2 = vA[i,2]\n",
    "        neptune.velocity = vector(v0, v1, v2)\n",
    "        neptune.pos += neptune.velocity*dt\n",
    "        i += 1"
   ]
  },
  {
   "cell_type": "code",
   "execution_count": null,
   "metadata": {
    "collapsed": true
   },
   "outputs": [],
   "source": [
    "#remaking for whole solar system\n",
    "#i = time step iteration\n",
    "#j = planet\n",
    "#k = x, y, z\n",
    "def solplot(vA=vA):\n",
    "    i = 0\n",
    "    while i < nsteps-1:\n",
    "        j = 0\n",
    "        rate(100)\n",
    "        while j < len(planets)-1:\n",
    "            vA0 = vA[i,j,0]\n",
    "            vA1 = vA[i,j,1]\n",
    "            vA2 = vA[i,j,2]\n",
    "            planets[j].velocity = vector(vA0, vA1, vA2)\n",
    "            planets[j].pos += planets[j].velocity*dt\n",
    "            j += 1\n",
    "        i += 1"
   ]
  },
  {
   "cell_type": "code",
   "execution_count": null,
   "metadata": {
    "collapsed": false
   },
   "outputs": [],
   "source": [
    "def solplot(vA = vA):\n",
    "    i = 0\n",
    "    while i < nsteps:\n",
    "        j = 0\n",
    "        rate(100)\n",
    "        while j < len(planets)-1:\n",
    "                vA0 = vA[i,j,0]\n",
    "                vA1 = vA[i,j,1]\n",
    "                vA2 = vA[i,j,2]\n",
    "                planets[j].velocity = vector(vA0, vA1, vA2)\n",
    "                planets[j].pos += planets[j].velocity*dt\n",
    "                j += 1\n",
    "        i += 1\n"
   ]
  },
  {
   "cell_type": "code",
   "execution_count": null,
   "metadata": {
    "collapsed": false
   },
   "outputs": [],
   "source": [
    "#old idea, doesn't work\n",
    "def templot(rX):\n",
    "    i = 0\n",
    "    while 1:\n",
    "        rate(10)\n",
    "        while i < nsteps-1:\n",
    "            r0 = rX[i,0]\n",
    "            r1 = rX[i,1]\n",
    "            r2 = rX[i,2]\n",
    "            neptune.pos = vector(r0, r1, r2)\n",
    "            return neptune.pos\n",
    "            i += 1"
   ]
  },
  {
   "cell_type": "code",
   "execution_count": null,
   "metadata": {
    "collapsed": false
   },
   "outputs": [],
   "source": [
    "scene1 = canvas(title=\"Title\")\n",
    "display(scene1)"
   ]
  },
  {
   "cell_type": "code",
   "execution_count": null,
   "metadata": {
    "collapsed": false
   },
   "outputs": [],
   "source": [
    "while i < nsteps-1:\n",
    "    rate(1)\n",
    "    neptune.pos = neptune.pos + vector(v0[i], v1[i], v2[i])\n",
    "    i += 1\n",
    "\n"
   ]
  },
  {
   "cell_type": "code",
   "execution_count": null,
   "metadata": {
    "collapsed": false
   },
   "outputs": [],
   "source": [
    "print(vN[0][0], vN[0][1], vN[0][2])\n",
    "print(vN[1][0], vN[1][1], vN[1][2])\n",
    "print(vN[2][0], vN[2][1], vN[2][2])\n",
    "print(vN[3][0], vN[3][1], vN[3][2])\n",
    "print(vN[4][0], vN[4][1], vN[4][2])\n",
    "print(vN[5][0], vN[5][1], vN[5][2])\n",
    "print(vN[6][0], vN[6][1], vN[6][2])\n",
    "print(vN[7][0], vN[7][1], vN[7][2])\n",
    "print(vN[8][0], vN[8][1], vN[8][2])"
   ]
  },
  {
   "cell_type": "code",
   "execution_count": null,
   "metadata": {
    "collapsed": false
   },
   "outputs": [],
   "source": [
    "v0 = vN[:,0]\n",
    "v1 = vN[:,1]\n",
    "v2 = vN[:,2]"
   ]
  }
 ],
 "metadata": {
  "anaconda-cloud": {},
  "kernelspec": {
   "display_name": "VPython",
   "language": "python",
   "name": "vpython"
  },
  "language_info": {
   "codemirror_mode": {
    "name": "ipython",
    "version": 3
   },
   "file_extension": ".py",
   "mimetype": "text/x-python",
   "name": "python",
   "nbconvert_exporter": "python",
   "pygments_lexer": "ipython3",
   "version": "3.5.2"
  }
 },
 "nbformat": 4,
 "nbformat_minor": 1
}
